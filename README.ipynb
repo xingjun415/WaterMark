{
 "cells": [
  {
   "cell_type": "markdown",
   "metadata": {},
   "source": [
    "# Introduction of Project WaterMark\n",
    "This project make a software which used to add Text or Image as watermark to an input image.  \n",
    "This project is developed using python 3, depends on the package of Pillow.\n"
   ]
  },
  {
   "cell_type": "markdown",
   "metadata": {},
   "source": [
    "## Files\n",
    "There are three kinds of file in this project. Their extension names are \".ipynb\", \".py\", \"md\",\"jpg\".  \n",
    "1. \".pynb\"\n",
    "   This project is developed in \"jupyter notebook\", all files with this extension is the source code of \"Jupyter notebook\"\n",
    "    1. README.ipynb\n",
    "       source code of \"README.md\"\n",
    "    2. watermark.ipynb\n",
    "       Source code of python code in \"jupyter notebook\" format, they can be used to generate the \".py\" files.\n",
    "2. \"md\"\n",
    "    "
   ]
  }
 ],
 "metadata": {
  "kernelspec": {
   "display_name": "Python 3",
   "language": "python",
   "name": "python3"
  },
  "language_info": {
   "codemirror_mode": {
    "name": "ipython",
    "version": 3
   },
   "file_extension": ".py",
   "mimetype": "text/x-python",
   "name": "python",
   "nbconvert_exporter": "python",
   "pygments_lexer": "ipython3",
   "version": "3.6.0"
  }
 },
 "nbformat": 4,
 "nbformat_minor": 2
}
