{
 "cells": [
  {
   "cell_type": "code",
   "execution_count": null,
   "metadata": {
    "collapsed": true
   },
   "outputs": [],
   "source": [
    "from PIL import Image, ImageDraw, ImageFont\n",
    " "
   ]
  },
  {
   "cell_type": "code",
   "execution_count": null,
   "metadata": {
    "collapsed": true
   },
   "outputs": [],
   "source": [
    "class TextFont:\n",
    "    "
   ]
  },
  {
   "cell_type": "code",
   "execution_count": 1,
   "metadata": {
    "collapsed": false
   },
   "outputs": [
    {
     "name": "stdout",
     "output_type": "stream",
     "text": [
      "<PIL.Image.Image image mode=RGBA size=1500x1500 at 0x2CC8105EFD0>\n"
     ]
    }
   ],
   "source": [
    "# 指定要使用的字体和大小；/Library/Fonts/是macOS字体目录；Linux的字体目录是/usr/share/fonts/\n",
    "font = ImageFont.truetype('simhei.ttf', 100)\n",
    " \n",
    "# image: 图片   text：要添加的文本  font：字体\n",
    "def add_text_to_image(image, text, font=font):\n",
    "    rgba_image = image.convert('RGBA')\n",
    "    text_overlay = Image.new('RGBA', rgba_image.size, (255, 255, 255, 0))\n",
    "    image_draw = ImageDraw.Draw(text_overlay)\n",
    " \n",
    "    text_size_x, text_size_y = image_draw.textsize(text, font=font)\n",
    "    \n",
    "    for pos_x in range(0, rgba_image.size[0], int(text_size_x )):\n",
    "        for pos_y in range(0, rgba_image.size[1], int(text_size_y * 1.5)):\n",
    "            image_draw.text((pos_x, pos_y), text, font=font, fill = (50, 50, 50, 50))\n",
    "    image_with_text = Image.alpha_composite(rgba_image, text_overlay)\n",
    "    return image_with_text"
   ]
  },
  {
   "cell_type": "code",
   "execution_count": null,
   "metadata": {
    "collapsed": true
   },
   "outputs": [],
   "source": [
    "im_before = Image.open(\"./kb-0.jpg\")\n",
    "im_before.show()\n",
    "im_after = add_text_to_image(im_before, '版权所有：迪英加科技有限公司', font)\n",
    "im_after.show()\n",
    "# im.save('im_after.jpg')"
   ]
  },
  {
   "cell_type": "code",
   "execution_count": 2,
   "metadata": {
    "collapsed": true
   },
   "outputs": [],
   "source": []
  }
 ],
 "metadata": {
  "kernelspec": {
   "display_name": "Python 3",
   "language": "python",
   "name": "python3"
  },
  "language_info": {
   "codemirror_mode": {
    "name": "ipython",
    "version": 3
   },
   "file_extension": ".py",
   "mimetype": "text/x-python",
   "name": "python",
   "nbconvert_exporter": "python",
   "pygments_lexer": "ipython3",
   "version": "3.6.0"
  }
 },
 "nbformat": 4,
 "nbformat_minor": 2
}
