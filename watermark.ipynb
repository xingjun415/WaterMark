{
 "cells": [
  {
   "cell_type": "code",
   "execution_count": 1,
   "metadata": {
    "collapsed": true
   },
   "outputs": [],
   "source": [
    "from PIL import Image, ImageDraw, ImageFont"
   ]
  },
  {
   "cell_type": "code",
   "execution_count": 2,
   "metadata": {
    "collapsed": true
   },
   "outputs": [],
   "source": [
    "class TextFont:\n",
    "    '''\n",
    "    This class is used to represent font family and font size for text.\n",
    "    '''\n",
    "    def __init__(self, font_family=\"simhei.ttf\", font_size = 100):\n",
    "        self.__font_family = font_family\n",
    "        self.__font_size = font_size\n",
    "    \n",
    "    @property\n",
    "    def font_family(self):\n",
    "        return self.__font_family\n",
    "    \n",
    "    @font_family.setter\n",
    "    def font_family(self, font_family):\n",
    "        self.__font_family = font_family\n",
    "    \n",
    "    @property\n",
    "    def font_size(self):\n",
    "        return self.__font_size\n",
    "    \n",
    "    @font_size.setter\n",
    "    def font_size(self, font_size):\n",
    "        self.__font_size = font_size\n",
    "    \n",
    "    @property\n",
    "    def font(self):\n",
    "        return ImageFont.truetype(self.font_family, self.font_size)\n",
    "    \n",
    "    "
   ]
  },
  {
   "cell_type": "code",
   "execution_count": 3,
   "metadata": {
    "collapsed": false
   },
   "outputs": [],
   "source": [
    "def test_text_font():\n",
    "    font = TextFont()\n",
    "    print(\"Before assignment : \")\n",
    "    print(\"font family : \", font.font_family)\n",
    "    print(\"font size : \", font.font_size)\n",
    "    print(\"font : \", font.font) \n",
    "#test_text_font()"
   ]
  },
  {
   "cell_type": "code",
   "execution_count": 37,
   "metadata": {
    "collapsed": true
   },
   "outputs": [],
   "source": [
    "class WaterMark:\n",
    "    \n",
    "    def add_text_to_image(self, image_path, text):\n",
    "        img_to_process_rgba = self.__get_rgba_image(image_path)\n",
    "        font_size = self.__get_font_size(img_to_process_rgba.size, text)\n",
    "        font = TextFont()\n",
    "        font.font_size = font_size\n",
    "        fill = (50,50,50,50)\n",
    "        text_overlay = self.__get_overlay(text, img_to_process_rgba.size, font.font, fill)\n",
    "        img_added_watermark = Image.alpha_composite(img_to_process_rgba, text_overlay)\n",
    "        return img_added_watermark \n",
    "    \n",
    "    def __get_rgba_image(self, image_path):\n",
    "        img_to_process = Image.open(image_path)\n",
    "        return img_to_process.convert(\"RGBA\")\n",
    "    \n",
    "    def __get_font_size(self, image_size, text):\n",
    "        text_width = len(text)\n",
    "        return int(min(image_size[0]/text_width, image_size[1], 100))\n",
    "    \n",
    "    def __get_overlay(self, text, img_size, font, fill):\n",
    "        text_overlay = Image.new(\"RGBA\", img_size, (255, 255, 255, 0))\n",
    "        text_draw = ImageDraw.Draw(text_overlay)\n",
    "        \n",
    "        text_width, text_height = text_draw.textsize(text, font = font)\n",
    "        for pos_x in range(0, img_size[0], text_width):\n",
    "            for pos_y in range(0, img_size[1], text_height):\n",
    "                text_draw.text((pos_x, pos_y), text, font = font, fill = fill)\n",
    "        return text_overlay"
   ]
  },
  {
   "cell_type": "code",
   "execution_count": 42,
   "metadata": {
    "collapsed": false
   },
   "outputs": [],
   "source": [
    "water_mark = WaterMark()\n",
    "img_processed = water_mark.add_text_to_image(\"./lena.jpg\",'版权所有：Junnix')\n",
    "img_processed.show()\n",
    "img_processed.save(\"test.jpg\")"
   ]
  },
  {
   "cell_type": "code",
   "execution_count": 34,
   "metadata": {
    "collapsed": false
   },
   "outputs": [
    {
     "name": "stdout",
     "output_type": "stream",
     "text": [
      "-4\n"
     ]
    }
   ],
   "source": [
    "print(min(2,5,1,6,-4))"
   ]
  }
 ],
 "metadata": {
  "kernelspec": {
   "display_name": "Python 3",
   "language": "python",
   "name": "python3"
  },
  "language_info": {
   "codemirror_mode": {
    "name": "ipython",
    "version": 3
   },
   "file_extension": ".py",
   "mimetype": "text/x-python",
   "name": "python",
   "nbconvert_exporter": "python",
   "pygments_lexer": "ipython3",
   "version": "3.6.0"
  }
 },
 "nbformat": 4,
 "nbformat_minor": 2
}
