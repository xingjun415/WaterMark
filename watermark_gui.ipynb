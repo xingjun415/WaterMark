{
 "cells": [
  {
   "cell_type": "code",
   "execution_count": null,
   "metadata": {
    "collapsed": true
   },
   "outputs": [],
   "source": [
    "from tkinter import *\n",
    "from PIL import Image, ImageTk"
   ]
  },
  {
   "cell_type": "code",
   "execution_count": null,
   "metadata": {
    "collapsed": true
   },
   "outputs": [],
   "source": [
    "class WaterMarkGui:\n",
    "    def __init__(self):\n",
    "        self.__main_win = None\n",
    "        self.__input_img_entry = None\n",
    "        self.__input_img_btn = None\n",
    "        self.__watermark_text_entry = None\n",
    "        self.__preview_btn = None\n",
    "        self.__preview_img_label = None\n",
    "        self.__photo_image = None\n",
    "        self.__win_width = 600\n",
    "        self.__win_height = 600\n",
    "        \n",
    "    def create_main_gui(self):\n",
    "        self.__main_win = Tk()\n",
    "        win_width, win_height = self.__win_width, self.__win_height\n",
    "        self.__create_window(win_width, win_height)\n",
    "        row_index = 0\n",
    "        self.__layout_input_images_row(row_index)\n",
    "        \n",
    "        row_index += 1\n",
    "        self.__layout_watermark_text_row(row_index)\n",
    "\n",
    "        row_index += 1\n",
    "        self.__layout_preview_image_region(row_index, win_width, win_height)\n",
    "    \n",
    "    def show_preview_image(self, image_path = None):\n",
    "        if image_path is not None:\n",
    "            img_to_show = self.__resize_image(Image.open(image_path))\n",
    "        else:\n",
    "            img_to_show = self.__resize_image( Image.new(\"RGBA\", (self.__win_width // 2, self.__win_height), (255, 0, 0, 255)) )\n",
    "        self.__preview_img_label['image'] = img_to_show\n",
    "        \n",
    "    def preview_image_call_back(self, func):\n",
    "        self.__preview_btn.bind(\"<ButtonRelease>\", func)\n",
    "                \n",
    "    def __resize_image(self, img_obj):\n",
    "        self.__photo_image = ImageTk.PhotoImage(img_obj)\n",
    "        return self.__photo_image\n",
    "    \n",
    "    def __create_window(self,width, height):\n",
    "        screen_width = self.__main_win.winfo_screenwidth()\n",
    "        screen_height = self.__main_win.winfo_screenheight()\n",
    "        size = \"%dx%d+%d+%d\"%(width, height, (screen_width - width) / 2, (screen_height - height) / 2)\n",
    "        print(\"size : \", size)\n",
    "        self.__main_win.geometry(size)\n",
    "    \n",
    "    def __layout_input_images_row(self, row_index):\n",
    "        # Controls in the input images select row\n",
    "        Label(self.__main_win, text=\"输入图像：\").grid(row = row_index, padx = 10, pady = 5)\n",
    "        self.__input_img_entry = Entry(self.__main_win, width = 55)\n",
    "        self.__input_img_btn = Button(self.__main_win, text=\"选择图像/目录\")\n",
    "    \n",
    "        self.__input_img_entry.grid(row = row_index, column = 1, columnspan = 3, padx = 5, pady = 5, sticky = W)\n",
    "        self.__input_img_btn.grid(row = row_index, column = 4, padx = 5, pady = 5, sticky = W)\n",
    "    \n",
    "    def __layout_watermark_text_row(self, row_index):\n",
    "        Label(self.__main_win, text=\"水印文字：\").grid(row = row_index, padx = 10, pady = 5)\n",
    "        self.__watermark_text_entry = Entry(self.__main_win, width = 55)\n",
    "        self.__preview_btn = Button(self.__main_win, text = \"预览效果\")\n",
    "        \n",
    "        self.__watermark_text_entry.grid(row=row_index, column = 1, columnspan = 3, padx = 5, pady = 5, sticky = W)\n",
    "        self.__preview_btn.grid(row = row_index, column = 4, padx = 5, pady = 5, sticky = W)\n",
    "    \n",
    "    def __layout_preview_image_region(self, row_index, win_width, win_height):  \n",
    "        self.image = \"lena.jpg\"\n",
    "        photo = self.__get_preview_image(\"lena.jpg\")\n",
    "        self.__preview_img_label = Label(self.__main_win, image = photo, width = (win_width - 10), height = (win_height - 10))\n",
    "        self.__preview_img_label.grid(row = row_index, columnspan = 5, rowspan = 5, padx = 10, pady = 5)\n",
    "        \n",
    "    def __get_preview_image(self, image_path = None, width = 300, height = 300):\n",
    "        photo = None\n",
    "        if image_path is None:\n",
    "            photo = Image.new(\"RGBA\", (width, height), (255, 0,0,255))\n",
    "        else:\n",
    "            with Image.open(image_path) as img:\n",
    "                photo = img.resize((width, height), Image.ANTIALIAS)\n",
    "        self.__photo_image = ImageTk.PhotoImage(photo)\n",
    "        return self.__photo_image"
   ]
  },
  {
   "cell_type": "code",
   "execution_count": null,
   "metadata": {
    "collapsed": true
   },
   "outputs": [],
   "source": [
    "import weakref\n",
    "class WaterMarkController:\n",
    "    def __init__(self, win_gui):\n",
    "        self.__win_gui = "
   ]
  },
  {
   "cell_type": "code",
   "execution_count": 1,
   "metadata": {
    "collapsed": false
   },
   "outputs": [
    {
     "name": "stdout",
     "output_type": "stream",
     "text": [
      "size :  600x600+383+84\n"
     ]
    }
   ],
   "source": [
    "img = \"lena.jpg\"\n",
    "watermark_gui = WaterMarkGui()\n",
    "\n",
    "def change_image(evt):\n",
    "    global img\n",
    "    img = \"lena.jpg\" if img is None else None\n",
    "    watermark_gui.show_preview_image(img)\n",
    "    \n",
    "def main():\n",
    "    watermark_gui.create_main_gui()\n",
    "    watermark_gui.preview_image_call_back(change_image)\n",
    "    mainloop()\n",
    "\n",
    "if __name__ == \"__main__\":\n",
    "    main()"
   ]
  }
 ],
 "metadata": {
  "kernelspec": {
   "display_name": "Python 3",
   "language": "python",
   "name": "python3"
  },
  "language_info": {
   "codemirror_mode": {
    "name": "ipython",
    "version": 3
   },
   "file_extension": ".py",
   "mimetype": "text/x-python",
   "name": "python",
   "nbconvert_exporter": "python",
   "pygments_lexer": "ipython3",
   "version": "3.6.0"
  }
 },
 "nbformat": 4,
 "nbformat_minor": 2
}
